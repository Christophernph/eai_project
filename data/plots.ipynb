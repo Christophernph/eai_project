{
 "cells": [
  {
   "cell_type": "code",
   "execution_count": 2,
   "metadata": {},
   "outputs": [],
   "source": [
    "import numpy as np\n",
    "import matplotlib.pyplot as plt\n",
    "from scipy import stats"
   ]
  },
  {
   "cell_type": "markdown",
   "metadata": {},
   "source": [
    "# Speed Test"
   ]
  },
  {
   "cell_type": "code",
   "execution_count": null,
   "metadata": {},
   "outputs": [],
   "source": [
    "data = [20, 23, 25, 29, 28, 24, 19, 15, 12, 6]              # From tests\n",
    "langs = ['500', '550', '600', '650', '700', '750', '800', '850', '900', '950']\n",
    "\n",
    "fig = plt.figure(figsize=(10, 6), dpi=160)\n",
    "plt.grid(axis='y')\n",
    "plt.bar(langs, data)\n",
    "plt.xlabel('Command value')\n",
    "plt.ylabel('#Succeses')\n",
    "plt.title('')\n",
    "\n",
    "plt.show()"
   ]
  },
  {
   "cell_type": "code",
   "execution_count": 18,
   "metadata": {},
   "outputs": [],
   "source": [
    "# If satisfied with figure\n",
    "fig.savefig('figures/speedtest.png')"
   ]
  },
  {
   "cell_type": "markdown",
   "metadata": {},
   "source": [
    "### Statistical Test"
   ]
  },
  {
   "cell_type": "code",
   "execution_count": 25,
   "metadata": {},
   "outputs": [
    {
     "name": "stdout",
     "output_type": "stream",
     "text": [
      "0.5536169919657805\n"
     ]
    }
   ],
   "source": [
    "n = 30\n",
    "\n",
    "X1 = 29\n",
    "X2 = 28\n",
    "\n",
    "p1 = X1 / 30\n",
    "p2 = X2 / 30\n",
    "p = (X1 + X2) / (n + n)\n",
    "\n",
    "# Test statistic\n",
    "z0 = np.abs((p1 - p2) / np.sqrt(p * (1 - p) * (1/n + 1/n)))\n",
    "\n",
    "# P-value\n",
    "P = 2 * (1 - stats.norm.cdf(z0))\n",
    "print(P)"
   ]
  },
  {
   "cell_type": "markdown",
   "metadata": {},
   "source": [
    "# Deploy Test"
   ]
  },
  {
   "cell_type": "code",
   "execution_count": null,
   "metadata": {},
   "outputs": [],
   "source": [
    "data = [18, 24, 30, 30, 30, 30, 30, 30, 30, 30, 30]              # From tests\n",
    "langs = ['0', '100', '200', '300', '400', '500', '600', '700', '800', '900', '1000']\n",
    "\n",
    "fig = plt.figure(figsize=(10, 6), dpi=160)\n",
    "plt.grid(axis='y')\n",
    "plt.bar(langs, data)\n",
    "plt.xlabel('Deploy time [ms]')\n",
    "plt.ylabel('#Succeses')\n",
    "plt.title('')\n",
    "\n",
    "plt.show()"
   ]
  },
  {
   "cell_type": "code",
   "execution_count": 4,
   "metadata": {},
   "outputs": [],
   "source": [
    "# If satisfied with figure\n",
    "fig.savefig('figures/deploytest.png')"
   ]
  },
  {
   "cell_type": "markdown",
   "metadata": {},
   "source": [
    "### Statistical Test"
   ]
  },
  {
   "cell_type": "code",
   "execution_count": 5,
   "metadata": {},
   "outputs": [
    {
     "name": "stdout",
     "output_type": "stream",
     "text": [
      "0.009823274507519297\n"
     ]
    }
   ],
   "source": [
    "n = 30\n",
    "\n",
    "X1 = 24\n",
    "X2 = 30\n",
    "\n",
    "p1 = X1 / 30\n",
    "p2 = X2 / 30\n",
    "p = (X1 + X2) / (n + n)\n",
    "\n",
    "# Test statistic\n",
    "z0 = np.abs((p1 - p2) / np.sqrt(p * (1 - p) * (1/n + 1/n)))\n",
    "\n",
    "# P-value\n",
    "P = 2 * (1 - stats.norm.cdf(z0))\n",
    "print(P)"
   ]
  }
 ],
 "metadata": {
  "interpreter": {
   "hash": "916dbcbb3f70747c44a77c7bcd40155683ae19c65e1c03b4aa3499c5328201f1"
  },
  "kernelspec": {
   "display_name": "Python 3.8.10 64-bit",
   "language": "python",
   "name": "python3"
  },
  "language_info": {
   "codemirror_mode": {
    "name": "ipython",
    "version": 3
   },
   "file_extension": ".py",
   "mimetype": "text/x-python",
   "name": "python",
   "nbconvert_exporter": "python",
   "pygments_lexer": "ipython3",
   "version": "3.8.10"
  },
  "orig_nbformat": 4
 },
 "nbformat": 4,
 "nbformat_minor": 2
}
